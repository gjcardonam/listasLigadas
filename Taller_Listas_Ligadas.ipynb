{
  "nbformat": 4,
  "nbformat_minor": 0,
  "metadata": {
    "colab": {
      "provenance": [],
      "toc_visible": true,
      "include_colab_link": true
    },
    "kernelspec": {
      "name": "python3",
      "display_name": "Python 3"
    },
    "language_info": {
      "name": "python"
    }
  },
  "cells": [
    {
      "cell_type": "markdown",
      "metadata": {
        "id": "view-in-github",
        "colab_type": "text"
      },
      "source": [
        "<a href=\"https://colab.research.google.com/github/gjcardonam/listasLigadas/blob/main/Taller_Listas_Ligadas.ipynb\" target=\"_parent\"><img src=\"https://colab.research.google.com/assets/colab-badge.svg\" alt=\"Open In Colab\"/></a>"
      ]
    },
    {
      "cell_type": "markdown",
      "source": [
        "# Manejo de Listas Ligadas en Python\n"
      ],
      "metadata": {
        "id": "vFD129aZHUUP"
      }
    },
    {
      "cell_type": "markdown",
      "source": [
        "#Ejercicio 1"
      ],
      "metadata": {
        "id": "6CffUWOQPR2z"
      }
    },
    {
      "cell_type": "code",
      "source": [
        "from IPython.display import Math\n",
        "import numpy as np\n",
        "import numbers\n",
        "\n",
        "class Pol:\n",
        "\n",
        "    def __init__(self):\n",
        "        self.coefs = []  # Coeficientes del polinomio\n",
        "        self.exps = []   # Exponentes del polinomio\n",
        "\n",
        "    def isEmpty(self):\n",
        "        return len(self.coefs) == 0 and len(self.exps) == 0\n",
        "\n",
        "    def add_term(self, c, e):\n",
        "        # Buscar la posición donde se debe insertar el término en función del exponente\n",
        "        k = np.searchsorted(self.exps, e)\n",
        "\n",
        "        # Si k es mayor que el número de términos actuales, agregar al final\n",
        "        if k == len(self.exps) or self.exps[k] != e:\n",
        "            self.coefs.insert(k, c)\n",
        "            self.exps.insert(k, e)\n",
        "        else:\n",
        "            # Sumar c al término correspondiente si el exponente ya existe\n",
        "            self.coefs[k] += c\n",
        "\n",
        "        return self  # Devolver self para permitir encadenar métodos\n",
        "\n",
        "    def show(self):\n",
        "        s = \"+\".join([\"%s^{%s}\" % (str(c) if e == 0 else (str(c) + \"x\" if c != 1 else \"x\"), str(e) if e not in [0, 1] else \"\") for c, e in zip(self.coefs, self.exps) if c != 0])\n",
        "        s = s.replace(\"+-\", \"-\")\n",
        "        display(Math(s))"
      ],
      "metadata": {
        "id": "6xAkS7qhH2yq"
      },
      "execution_count": 52,
      "outputs": []
    },
    {
      "cell_type": "markdown",
      "source": [
        "Ejemplo de uso\n"
      ],
      "metadata": {
        "id": "PKuVOpDoLPQu"
      }
    },
    {
      "cell_type": "code",
      "source": [
        "p = Pol().add_term(3,5).add_term(4,2)\n",
        "p.show()"
      ],
      "metadata": {
        "colab": {
          "base_uri": "https://localhost:8080/",
          "height": 38
        },
        "id": "Gh7w5H-SLUYD",
        "outputId": "0be56c5d-63f6-4a0e-c04e-65125e32c101"
      },
      "execution_count": 53,
      "outputs": [
        {
          "output_type": "display_data",
          "data": {
            "text/plain": [
              "<IPython.core.display.Math object>"
            ],
            "text/latex": "$\\displaystyle 4x^{2}+3x^{5}$"
          },
          "metadata": {}
        }
      ]
    },
    {
      "cell_type": "code",
      "source": [
        "s1 = Pol().add_term(3, 5).add_term(4, 2)\n",
        "print(\"s1:\")\n",
        "s1.show()\n",
        "\n",
        "s2 = Pol().add_term(-8, 5).add_term(4, 2)\n",
        "print(\"\\ns2:\")\n",
        "s2.show()"
      ],
      "metadata": {
        "colab": {
          "base_uri": "https://localhost:8080/",
          "height": 112
        },
        "id": "p2AWJRLCP1YP",
        "outputId": "5fde2a39-7ebf-4dfb-dadc-4fac5ce3f44e"
      },
      "execution_count": 54,
      "outputs": [
        {
          "output_type": "stream",
          "name": "stdout",
          "text": [
            "s1:\n"
          ]
        },
        {
          "output_type": "display_data",
          "data": {
            "text/plain": [
              "<IPython.core.display.Math object>"
            ],
            "text/latex": "$\\displaystyle 4x^{2}+3x^{5}$"
          },
          "metadata": {}
        },
        {
          "output_type": "stream",
          "name": "stdout",
          "text": [
            "\n",
            "s2:\n"
          ]
        },
        {
          "output_type": "display_data",
          "data": {
            "text/plain": [
              "<IPython.core.display.Math object>"
            ],
            "text/latex": "$\\displaystyle 4x^{2}-8x^{5}$"
          },
          "metadata": {}
        }
      ]
    },
    {
      "cell_type": "markdown",
      "source": [
        "#Ejercicio 2"
      ],
      "metadata": {
        "id": "_iSTQFydPpeh"
      }
    },
    {
      "cell_type": "code",
      "source": [
        "from IPython.display import Math\n",
        "import numpy as np\n",
        "import numbers\n",
        "\n",
        "class Pol:\n",
        "\n",
        "    def __init__(self):\n",
        "        self.coefs = []  # Coeficientes del polinomio\n",
        "        self.exps = []   # Exponentes del polinomio\n",
        "\n",
        "    def isEmpty(self):\n",
        "        return len(self.coefs) == 0 and len(self.exps) == 0\n",
        "\n",
        "    def add_term(self, c, e):\n",
        "        # Buscar la posición donde se debe insertar el término en función del exponente\n",
        "        k = np.searchsorted(self.exps, e)\n",
        "\n",
        "        # Si k es mayor que el número de términos actuales, agregar al final\n",
        "        if k == len(self.exps) or self.exps[k] != e:\n",
        "            self.coefs.insert(k, c)\n",
        "            self.exps.insert(k, e)\n",
        "        else:\n",
        "            # Sumar c al término correspondiente si el exponente ya existe\n",
        "            self.coefs[k] += c\n",
        "\n",
        "        return self  # Devolver self para permitir encadenar métodos\n",
        "\n",
        "    def sum(self, q):\n",
        "        r = self.__class__()\n",
        "        i, j = 0, 0\n",
        "\n",
        "        while i < len(self.exps) and j < len(q.exps):\n",
        "            if self.exps[i] < q.exps[j]:\n",
        "                r.add_term(self.coefs[i], self.exps[i])\n",
        "                i += 1\n",
        "            elif self.exps[i] > q.exps[j]:\n",
        "                r.add_term(q.coefs[j], q.exps[j])\n",
        "                j += 1\n",
        "            else:\n",
        "                r.add_term(self.coefs[i] + q.coefs[j], self.exps[i])\n",
        "                i += 1\n",
        "                j += 1\n",
        "\n",
        "        # Agregar los términos restantes de 'self' y 'q'\n",
        "        while i < len(self.exps):\n",
        "            r.add_term(self.coefs[i], self.exps[i])\n",
        "            i += 1\n",
        "\n",
        "        while j < len(q.exps):\n",
        "            r.add_term(q.coefs[j], q.exps[j])\n",
        "            j += 1\n",
        "\n",
        "        return r  # Devolver el nuevo polinomio 'r'\n",
        "\n",
        "    def show(self):\n",
        "        s = \"+\".join([\"%s^{%s}\" % (str(c) if e == 0 else (str(c) + \"x\" if c != 1 else \"x\"), str(e) if e not in [0, 1] else \"\") for c, e in zip(self.coefs, self.exps) if c != 0])\n",
        "        s = s.replace(\"+-\", \"-\")\n",
        "        display(Math(s))"
      ],
      "metadata": {
        "id": "JREX5sl3Pm2B"
      },
      "execution_count": 55,
      "outputs": []
    },
    {
      "cell_type": "markdown",
      "source": [
        "Ejemplos de uso"
      ],
      "metadata": {
        "id": "cL0iGJfCP6nh"
      }
    },
    {
      "cell_type": "code",
      "source": [
        "s1 = Pol().add_term(3, 5).add_term(4, 2)\n",
        "print(\"s1:\")\n",
        "s1.show()\n",
        "\n",
        "s2 = Pol().add_term(-8, 5).add_term(4, 2)\n",
        "print(\"\\ns2:\")\n",
        "s2.show()\n",
        "\n",
        "s3 = s1.sum(s2)\n",
        "print(\"\\ns3:\")\n",
        "s3.show()"
      ],
      "metadata": {
        "id": "xgtWO22ZfFhN",
        "colab": {
          "base_uri": "https://localhost:8080/",
          "height": 168
        },
        "outputId": "8c742946-506c-4d8e-8714-af764de1af1b"
      },
      "execution_count": 56,
      "outputs": [
        {
          "output_type": "stream",
          "name": "stdout",
          "text": [
            "s1:\n"
          ]
        },
        {
          "output_type": "display_data",
          "data": {
            "text/plain": [
              "<IPython.core.display.Math object>"
            ],
            "text/latex": "$\\displaystyle 4x^{2}+3x^{5}$"
          },
          "metadata": {}
        },
        {
          "output_type": "stream",
          "name": "stdout",
          "text": [
            "\n",
            "s2:\n"
          ]
        },
        {
          "output_type": "display_data",
          "data": {
            "text/plain": [
              "<IPython.core.display.Math object>"
            ],
            "text/latex": "$\\displaystyle 4x^{2}-8x^{5}$"
          },
          "metadata": {}
        },
        {
          "output_type": "stream",
          "name": "stdout",
          "text": [
            "\n",
            "s3:\n"
          ]
        },
        {
          "output_type": "display_data",
          "data": {
            "text/plain": [
              "<IPython.core.display.Math object>"
            ],
            "text/latex": "$\\displaystyle 8x^{2}-5x^{5}$"
          },
          "metadata": {}
        }
      ]
    },
    {
      "cell_type": "markdown",
      "source": [
        "#Ejercicio 3"
      ],
      "metadata": {
        "id": "KNR_1biVR5rc"
      }
    },
    {
      "cell_type": "code",
      "source": [
        "class Pol:\n",
        "    def __init__(self, coefs):\n",
        "        self.coefs = coefs\n",
        "\n",
        "    def isEmpty(self):\n",
        "        return all(c == 0 for c in self.coefs)\n",
        "\n",
        "    def add_term(self, c, e):\n",
        "        if e < len(self.coefs):\n",
        "            self.coefs[e] += c\n",
        "        else:\n",
        "            # Ampliar la lista de coeficientes con ceros hasta el exponente\n",
        "            self.coefs.extend([0] * (e - len(self.coefs) + 1))\n",
        "            self.coefs[e] = c\n",
        "\n",
        "    def sum(self, otro_pol):\n",
        "        max_len = max(len(self.coefs), len(otro_pol.coefs))\n",
        "        result_coefs = [0] * max_len\n",
        "\n",
        "        for i in range(max_len):\n",
        "            result_coefs[i] = self.coefs[i] + otro_pol.coefs[i]\n",
        "\n",
        "        return Pol(result_coefs)\n",
        "\n",
        "    def show(self):\n",
        "        terms = []\n",
        "        for i, c in enumerate(self.coefs):\n",
        "            if c != 0:\n",
        "                if i == 0:\n",
        "                    terms.append(str(c))\n",
        "                elif i == 1:\n",
        "                    terms.append(f\"{c}x\")\n",
        "                else:\n",
        "                    # Representar el exponente con cada dígito por separado\n",
        "                    exponent_str = ''.join(['⁰¹²³⁴⁵⁶⁷⁸⁹'[int(digit)] for digit in str(i)])\n",
        "                    terms.append(f\"{c}x{exponent_str}\")\n",
        "\n",
        "        latex_expression = '+'.join(terms)\n",
        "        latex_expression = latex_expression.replace(\"+-\", \"-\")\n",
        "        display(Math(latex_expression))"
      ],
      "metadata": {
        "id": "Vp6_MP7fR9A9"
      },
      "execution_count": 73,
      "outputs": []
    },
    {
      "cell_type": "markdown",
      "source": [
        "Ejemplos de uso"
      ],
      "metadata": {
        "id": "Yluwo4wqSAbu"
      }
    },
    {
      "cell_type": "code",
      "source": [
        "coefs_p1 = [2, 0, 3, 0, 0, 6]\n",
        "p1 = Pol(coefs_p1)\n",
        "print(\"Polinomio p1:\")\n",
        "p1.show()\n",
        "\n",
        "coefs_p2 = [2, 0, 3, 0, 0, 6, 0, 0, 0]\n",
        "p2 = Pol(coefs_p2)\n",
        "print(\"\\nPolinomio p2:\")\n",
        "p2.show()\n",
        "\n",
        "coefs_p3 = [2, 0, 3, 0, 0, 6, 0, 0, 1]\n",
        "p3 = Pol(coefs_p3)\n",
        "print(\"\\nPolinomio p3:\")\n",
        "p3.show()\n",
        "\n",
        "coefs_p4 = [2, 0, 3, 0, 0, 9, 0, 0, 1]\n",
        "p4 = Pol(coefs_p4)\n",
        "print(\"\\nPolinomio p4:\")\n",
        "p4.show()\n",
        "\n",
        "coefs_p5 = [2, 13, 3, 0, 0, 6, 0, 0, 1]\n",
        "p5 = Pol(coefs_p5)\n",
        "print(\"\\nPolinomio p5:\")\n",
        "p5.show()"
      ],
      "metadata": {
        "colab": {
          "base_uri": "https://localhost:8080/",
          "height": 280
        },
        "id": "PdmqmTi-SB5A",
        "outputId": "a249e10e-4735-4fa9-c6ae-bbc1883aac6f"
      },
      "execution_count": 74,
      "outputs": [
        {
          "output_type": "stream",
          "name": "stdout",
          "text": [
            "Polinomio p1:\n"
          ]
        },
        {
          "output_type": "display_data",
          "data": {
            "text/plain": [
              "<IPython.core.display.Math object>"
            ],
            "text/latex": "$\\displaystyle 2+3x²+6x⁵$"
          },
          "metadata": {}
        },
        {
          "output_type": "stream",
          "name": "stdout",
          "text": [
            "\n",
            "Polinomio p2:\n"
          ]
        },
        {
          "output_type": "display_data",
          "data": {
            "text/plain": [
              "<IPython.core.display.Math object>"
            ],
            "text/latex": "$\\displaystyle 2+3x²+6x⁵$"
          },
          "metadata": {}
        },
        {
          "output_type": "stream",
          "name": "stdout",
          "text": [
            "\n",
            "Polinomio p3:\n"
          ]
        },
        {
          "output_type": "display_data",
          "data": {
            "text/plain": [
              "<IPython.core.display.Math object>"
            ],
            "text/latex": "$\\displaystyle 2+3x²+6x⁵+1x⁸$"
          },
          "metadata": {}
        },
        {
          "output_type": "stream",
          "name": "stdout",
          "text": [
            "\n",
            "Polinomio p4:\n"
          ]
        },
        {
          "output_type": "display_data",
          "data": {
            "text/plain": [
              "<IPython.core.display.Math object>"
            ],
            "text/latex": "$\\displaystyle 2+3x²+9x⁵+1x⁸$"
          },
          "metadata": {}
        },
        {
          "output_type": "stream",
          "name": "stdout",
          "text": [
            "\n",
            "Polinomio p5:\n"
          ]
        },
        {
          "output_type": "display_data",
          "data": {
            "text/plain": [
              "<IPython.core.display.Math object>"
            ],
            "text/latex": "$\\displaystyle 2+13x+3x²+6x⁵+1x⁸$"
          },
          "metadata": {}
        }
      ]
    },
    {
      "cell_type": "markdown",
      "source": [
        "#Ejercicio 4"
      ],
      "metadata": {
        "id": "eoWWQlHnToZd"
      }
    },
    {
      "cell_type": "code",
      "source": [
        "class Pol:\n",
        "    def __init__(self, coefs):\n",
        "        self.coefs = coefs\n",
        "\n",
        "    def isEmpty(self):\n",
        "        return all(c == 0 for c in self.coefs)\n",
        "\n",
        "    def add_term(self, c, e):\n",
        "        if e < len(self.coefs):\n",
        "            self.coefs[e] += c\n",
        "        else:\n",
        "            # Ampliar la lista de coeficientes con ceros hasta el exponente\n",
        "            self.coefs.extend([0] * (e - len(self.coefs) + 1))\n",
        "            self.coefs[e] = c\n",
        "\n",
        "    def sum(self, otro_pol):\n",
        "        max_len = max(len(self.coefs), len(otro_pol.coefs))\n",
        "        result_coefs = [0] * max_len\n",
        "\n",
        "        for i in range(max_len):\n",
        "            result_coefs[i] = self.coefs[i] + otro_pol.coefs[i]\n",
        "\n",
        "        return Pol(result_coefs)\n",
        "\n",
        "    def show(self):\n",
        "        terms = []\n",
        "        for i, c in enumerate(self.coefs):\n",
        "            if c != 0:\n",
        "                if i == 0:\n",
        "                    terms.append(str(c))\n",
        "                elif i == 1:\n",
        "                    terms.append(f\"{c}x\")\n",
        "                else:\n",
        "                    # Representar el exponente con cada dígito por separado\n",
        "                    exponent_str = ''.join(['⁰¹²³⁴⁵⁶⁷⁸⁹'[int(digit)] for digit in str(i)])\n",
        "                    terms.append(f\"{c}x{exponent_str}\")\n",
        "\n",
        "        latex_expression = '+'.join(terms)\n",
        "        latex_expression = latex_expression.replace(\"+-\", \"-\")\n",
        "        display(Math(latex_expression))\n",
        "\n",
        "\n",
        "    def multiply(self, otro_pol):\n",
        "        result_coefs = [0] * (len(self.coefs) + len(otro_pol.coefs) - 1)\n",
        "\n",
        "        for i in range(len(self.coefs)):\n",
        "            for j in range(len(otro_pol.coefs)):\n",
        "                result_coefs[i + j] += self.coefs[i] * otro_pol.coefs[j]\n",
        "\n",
        "        return Pol(result_coefs)"
      ],
      "metadata": {
        "id": "lm5m-OwqTq7o"
      },
      "execution_count": 71,
      "outputs": []
    },
    {
      "cell_type": "markdown",
      "source": [
        "Ejemplos de uso"
      ],
      "metadata": {
        "id": "D42dx2KfUHiU"
      }
    },
    {
      "cell_type": "code",
      "source": [
        "coefs_p1 = [2, 0, 3, 0, 0, 6]\n",
        "p1 = Pol(coefs_p1)\n",
        "print(\"Polinomio p1:\")\n",
        "p1.show()\n",
        "\n",
        "coefs_p2 = [0, 0, 4, 0, 0, 2]\n",
        "p2 = Pol(coefs_p2)\n",
        "print(\"\\nPolinomio p2:\")\n",
        "p2.show()\n",
        "\n",
        "p3 = p1.multiply(p2)\n",
        "print(\"\\nResultado de la multiplicación:\")\n",
        "p3.show()"
      ],
      "metadata": {
        "colab": {
          "base_uri": "https://localhost:8080/",
          "height": 168
        },
        "id": "eYdyuFRZUGsp",
        "outputId": "103120f5-8a6a-47ed-d197-bf914033600f"
      },
      "execution_count": 72,
      "outputs": [
        {
          "output_type": "stream",
          "name": "stdout",
          "text": [
            "Polinomio p1:\n"
          ]
        },
        {
          "output_type": "display_data",
          "data": {
            "text/plain": [
              "<IPython.core.display.Math object>"
            ],
            "text/latex": "$\\displaystyle 2+3x²+6x⁵$"
          },
          "metadata": {}
        },
        {
          "output_type": "stream",
          "name": "stdout",
          "text": [
            "\n",
            "Polinomio p2:\n"
          ]
        },
        {
          "output_type": "display_data",
          "data": {
            "text/plain": [
              "<IPython.core.display.Math object>"
            ],
            "text/latex": "$\\displaystyle 4x²+2x⁵$"
          },
          "metadata": {}
        },
        {
          "output_type": "stream",
          "name": "stdout",
          "text": [
            "\n",
            "Resultado de la multiplicación:\n"
          ]
        },
        {
          "output_type": "display_data",
          "data": {
            "text/plain": [
              "<IPython.core.display.Math object>"
            ],
            "text/latex": "$\\displaystyle 8x²+12x⁴+4x⁵+30x⁷+12x¹⁰$"
          },
          "metadata": {}
        }
      ]
    },
    {
      "cell_type": "markdown",
      "source": [
        "#Ejercicio 5"
      ],
      "metadata": {
        "id": "POBhJ7ixVJ5O"
      }
    },
    {
      "cell_type": "code",
      "source": [
        "class Node:\n",
        "    def __init__(self, data):\n",
        "        self.data = data\n",
        "        self.next = None\n",
        "\n",
        "class LinkedList:\n",
        "    def __init__(self):\n",
        "        self.head = None\n",
        "\n",
        "    def append(self, data):\n",
        "        new_node = Node(data)\n",
        "        if not self.head:\n",
        "            self.head = new_node\n",
        "            return\n",
        "        last = self.head\n",
        "        while last.next:\n",
        "            last = last.next\n",
        "        last.next = new_node\n",
        "\n",
        "    def display(self):\n",
        "        current = self.head\n",
        "        while current:\n",
        "            print(current.data, end=\" \")\n",
        "            current = current.next\n",
        "        print()\n",
        "\n",
        "    def selection_sort(self):\n",
        "        if not self.head:\n",
        "            return\n",
        "\n",
        "        current = self.head\n",
        "        while current:\n",
        "            min_node = current\n",
        "            runner = current.next\n",
        "\n",
        "            while runner:\n",
        "                if runner.data < min_node.data:\n",
        "                    min_node = runner\n",
        "                runner = runner.next\n",
        "\n",
        "            # Swap current node with the minimum node\n",
        "            current.data, min_node.data = min_node.data, current.data\n",
        "\n",
        "            current = current.next"
      ],
      "metadata": {
        "id": "TBuRnwhSVLrZ"
      },
      "execution_count": 75,
      "outputs": []
    },
    {
      "cell_type": "markdown",
      "source": [
        "Ejemplos de uso"
      ],
      "metadata": {
        "id": "vEIr-auaVN5Z"
      }
    },
    {
      "cell_type": "code",
      "source": [
        "numbers_list = LinkedList()\n",
        "numbers_list.append(5)\n",
        "numbers_list.append(2)\n",
        "numbers_list.append(8)\n",
        "numbers_list.append(1)\n",
        "numbers_list.append(3)\n",
        "\n",
        "print(\"Lista original:\")\n",
        "numbers_list.display()\n",
        "\n",
        "print(\"\\nOrdenando la lista:\")\n",
        "numbers_list.selection_sort()\n",
        "numbers_list.display()"
      ],
      "metadata": {
        "colab": {
          "base_uri": "https://localhost:8080/"
        },
        "id": "wvIArz1RVPI-",
        "outputId": "bd85c81f-c4de-4e7e-d10b-272b9cd86b98"
      },
      "execution_count": 76,
      "outputs": [
        {
          "output_type": "stream",
          "name": "stdout",
          "text": [
            "Lista original:\n",
            "5 2 8 1 3 \n",
            "\n",
            "Ordenando la lista:\n",
            "1 2 3 5 8 \n"
          ]
        }
      ]
    },
    {
      "cell_type": "markdown",
      "source": [
        "#Ejercicio 6"
      ],
      "metadata": {
        "id": "5n5Sm3MCVdC6"
      }
    },
    {
      "cell_type": "code",
      "source": [
        "class Node:\n",
        "    def __init__(self, data):\n",
        "        self.data = data\n",
        "        self.next = None\n",
        "\n",
        "class LinkedList:\n",
        "    def __init__(self):\n",
        "        self.head = None\n",
        "\n",
        "    def append(self, data):\n",
        "        new_node = Node(data)\n",
        "        if not self.head:\n",
        "            self.head = new_node\n",
        "            return\n",
        "        last = self.head\n",
        "        while last.next:\n",
        "            last = last.next\n",
        "        last.next = new_node\n",
        "\n",
        "    def display(self):\n",
        "        current = self.head\n",
        "        while current:\n",
        "            print(current.data, end=\" \")\n",
        "            current = current.next\n",
        "        print()\n",
        "\n",
        "    def selection_sort(self):\n",
        "        if not self.head:\n",
        "            return\n",
        "\n",
        "        current = self.head\n",
        "        while current:\n",
        "            min_node = current\n",
        "            runner = current.next\n",
        "\n",
        "            while runner:\n",
        "                if runner.data < min_node.data:\n",
        "                    min_node = runner\n",
        "                runner = runner.next\n",
        "\n",
        "            # Swap current node with the minimum node\n",
        "            current.data, min_node.data = min_node.data, current.data\n",
        "\n",
        "            current = current.next\n",
        "\n",
        "    def binary_search(self, target):\n",
        "        if not self.head:\n",
        "            return \"La lista está vacía.\"\n",
        "\n",
        "        left = self.head\n",
        "        right = None\n",
        "\n",
        "        # Encontrar el extremo derecho de la lista\n",
        "        current = self.head\n",
        "        while current.next:\n",
        "            current = current.next\n",
        "        right = current\n",
        "\n",
        "        while left and right and left != right and right.next != left:\n",
        "            mid = self.find_middle(left, right)\n",
        "\n",
        "            if mid.data == target:\n",
        "                return f\"{target} encontrado en la lista.\"\n",
        "            elif mid.data < target:\n",
        "                left = mid.next\n",
        "            else:\n",
        "                right = mid.prev\n",
        "\n",
        "        return f\"{target} no encontrado en la lista.\"\n",
        "\n",
        "    def find_middle(self, left, right):\n",
        "        slow = left\n",
        "        fast = left\n",
        "\n",
        "        while fast != right and fast.next != right:\n",
        "            slow = slow.next\n",
        "            fast = fast.next\n",
        "            if fast.next != right:\n",
        "                fast = fast.next\n",
        "\n",
        "        return slow"
      ],
      "metadata": {
        "id": "V_ZKgwCuVfXI"
      },
      "execution_count": 79,
      "outputs": []
    },
    {
      "cell_type": "markdown",
      "source": [
        "Ejemplos de uso"
      ],
      "metadata": {
        "id": "vFmNDhsxVgxY"
      }
    },
    {
      "cell_type": "code",
      "source": [
        "numbers_list = LinkedList()\n",
        "numbers_list.append(5)\n",
        "numbers_list.append(2)\n",
        "numbers_list.append(8)\n",
        "numbers_list.append(1)\n",
        "numbers_list.append(3)\n",
        "\n",
        "print(\"Lista original:\")\n",
        "numbers_list.display()\n",
        "\n",
        "print(\"\\nOrdenando la lista:\")\n",
        "numbers_list.selection_sort()\n",
        "numbers_list.display()\n",
        "\n",
        "# Realizar una búsqueda\n",
        "target_value = 3\n",
        "search_result = numbers_list.binary_search(target_value)\n",
        "print(\"\\n\" + search_result)\n",
        "\n",
        "target_value = 10\n",
        "search_result = numbers_list.binary_search(target_value)\n",
        "print(search_result)\n"
      ],
      "metadata": {
        "colab": {
          "base_uri": "https://localhost:8080/"
        },
        "id": "O7YOiSyCViu4",
        "outputId": "88ba0a79-3254-40da-b1db-d4914f61218e"
      },
      "execution_count": 80,
      "outputs": [
        {
          "output_type": "stream",
          "name": "stdout",
          "text": [
            "Lista original:\n",
            "5 2 8 1 3 \n",
            "\n",
            "Ordenando la lista:\n",
            "1 2 3 5 8 \n",
            "\n",
            "3 encontrado en la lista.\n",
            "10 no encontrado en la lista.\n"
          ]
        }
      ]
    }
  ]
}